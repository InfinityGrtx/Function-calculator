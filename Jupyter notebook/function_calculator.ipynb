{
  "cells": [
    {
      "cell_type": "code",
      "execution_count": null,
      "metadata": {
        "colab": {
          "base_uri": "https://localhost:8080/"
        },
        "id": "dl1kqOo6Osgf",
        "outputId": "45948175-22b5-4378-9ca8-4de28fabece5"
      },
      "outputs": [],
      "source": [
        "import math\n",
        "\n",
        "def paragariumtheorem(a, b):\n",
        "  a2 = pow(a, 2)\n",
        "  b2 = pow(b, 2)\n",
        "  c2 = a2 + b2\n",
        "  c = math.sqrt(c2)\n",
        "  print('your answer is: ')\n",
        "  print(c)\n",
        "\n",
        "def inversepythagoreantheorem(a, c):\n",
        "  a2 = pow(a, 2)\n",
        "  c2 = pow(c, 2)\n",
        "  b2 = c2 - a2\n",
        "  b = math.sqrt(b2)\n",
        "  print('Your answer is: ')\n",
        "  print(b)\n",
        "\n",
        "def findintersectingchords(x,y):\n",
        "  z = x + y\n",
        "  answer = z / 2\n",
        "  print(answer)\n",
        "\n",
        "def findintersectingsecants(x,y):\n",
        "  z = x - y\n",
        "  answer = z / 2\n",
        "  print(answer)\n",
        "\n",
        "def findintersectingtangethord(x):\n",
        "  y = x / 2\n",
        "  print(y)\n",
        "\n",
        "def pyramidvolume(b, h):\n",
        "  answer = b*h / 3\n",
        "  print('your answer is: ')\n",
        "  print(answer)\n",
        "\n",
        "def translation(x,y,x1,y1):\n",
        "  newx = x + x1\n",
        "  newy = y + y1\n",
        "  print(\"your new x is: \")\n",
        "  print(newx)\n",
        "  print(\"your new y is: \")\n",
        "  print(newy)\n",
        "\n",
        "def dilation(k,x,y):\n",
        "  newx = x * k\n",
        "  newy = y * k\n",
        "  print('your new x is: ')\n",
        "  print(newx)\n",
        "  print('your new y is: ')\n",
        "  print(newy)\n",
        "\n",
        "\n",
        "\n",
        "def setupformula(formula):\n",
        "  if formula == '1': \n",
        "    a = float(input('first value: '))\n",
        "    b = float(input('second value: '))\n",
        "    paragariumtheorem(a, b)\n",
        "  elif formula == '2':\n",
        "    a = float(input('known leg value: '))\n",
        "    c = float(input('Hypotenuse value: '))\n",
        "    inversepythagoreantheorem(a, c)\n",
        "  elif formula == '3':\n",
        "    x = float(input('value of arc one: '))\n",
        "    y = float(input('value of arc two: '))\n",
        "    findintersectingchords(x,y)\n",
        "  elif formula == '4':\n",
        "    x = float(input('value of arc one: '))\n",
        "    y = float(input('value of arc two: '))\n",
        "    findintersectingsecants(x,y)\n",
        "  elif formula == '5':\n",
        "    x = float(input('value of arc: '))\n",
        "    findintersectingtangethord(x)\n",
        "  elif formula == '6':\n",
        "    b = float(input('the area of the base is: '))\n",
        "    h = float(input('the hight of the pyramid is: '))\n",
        "    pyramidvolume(b, h)\n",
        "  elif formula == '7':\n",
        "    x = float(input('the original x value is: '))\n",
        "    y = float(input('the original y value is: '))\n",
        "    x1 = float(input('how much to translate on the x axis: '))\n",
        "    x2 = float(input('how much to translate on the y axis: '))\n",
        "    translation(x,y,x1,x2)\n",
        "  elif formula == '8':\n",
        "    x = float(input('the original x value is: '))\n",
        "    y = float(input('the original y value is: '))\n",
        "    k = float(input('the scale factor is: '))\n",
        "    dilation(k,x,y)\n",
        "  else:\n",
        "    print('Formula unknown')\n",
        "\n"
      ]
    },
    {
      "cell_type": "code",
      "execution_count": null,
      "metadata": {
        "colab": {
          "base_uri": "https://localhost:8080/"
        },
        "id": "sVGjzEZlFaqx",
        "outputId": "057a5b75-eb9d-4f70-c908-8521bf90d9d4"
      },
      "outputs": [],
      "source": [
        "print('availiable functions are: 1: Pythagorean theorem, 2: Inverse Pythagorean theorem. 3: find intersecting chords, 4: find intersecting secants. 5: find intersecting tangent and chord. 6: pyramid volume. 7: 2d translation, 8: dilation')\n",
        "formula = input('enter function: ')\n",
        "setupformula(formula)"
      ]
    }
  ],
  "metadata": {
    "colab": {
      "collapsed_sections": [],
      "name": "function calculator.ipynb",
      "provenance": []
    },
    "kernelspec": {
      "display_name": "Python 3",
      "name": "python3"
    },
    "language_info": {
      "name": "python"
    }
  },
  "nbformat": 4,
  "nbformat_minor": 0
}
